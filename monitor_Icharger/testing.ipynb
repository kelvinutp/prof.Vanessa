{
 "cells": [
  {
   "cell_type": "code",
   "execution_count": 1,
   "id": "a8b14e0a-62ea-4c0f-822b-c630397380de",
   "metadata": {},
   "outputs": [],
   "source": [
    "import subprocess\n",
    "import sys"
   ]
  },
  {
   "cell_type": "code",
   "execution_count": 2,
   "id": "df868d1e-c6c5-404d-a351-0fd055110a81",
   "metadata": {},
   "outputs": [],
   "source": [
    "def install_package(package):\n",
    "    \"\"\"Installs the package using pip\"\"\"\n",
    "    subprocess.check_call([sys.executable, '-m', 'pip','install',package])"
   ]
  },
  {
   "cell_type": "code",
   "execution_count": 3,
   "id": "0e3e7412-3745-46c0-bfaf-623df0f6907d",
   "metadata": {},
   "outputs": [],
   "source": [
    "def check_and_install_dependencies(packages):\n",
    "    \"\"\"Checks if packages are installed, installs them if not\"\"\"\n",
    "    for package in packages:\n",
    "        try:\n",
    "            __import__(package.split('==')[0])\n",
    "            print(f\"{package} is alreday installed\")\n",
    "        except ImportError:\n",
    "            print(f'{package} not found. Installing...')\n",
    "            install_package(package)\n",
    "            print(f'{package} has been installed.')"
   ]
  },
  {
   "cell_type": "code",
   "execution_count": 4,
   "id": "4ca706d9-27e4-4225-b8e2-5843d9781202",
   "metadata": {},
   "outputs": [],
   "source": [
    "import ctypes\n",
    "import serial\n",
    "import time\n",
    "import serial.tools.list_ports\n",
    "from datetime import datetime\n",
    "from collections import Counter"
   ]
  },
  {
   "cell_type": "code",
   "execution_count": 5,
   "id": "fabf74c5-a6f2-4a29-8e32-7be5e6df281f",
   "metadata": {},
   "outputs": [
    {
     "name": "stdout",
     "output_type": "stream",
     "text": [
      "pyserial==3.5 not found. Installing...\n",
      "Requirement already satisfied: pyserial==3.5 in /usr/local/python/3.12.1/lib/python3.12/site-packages (3.5)\n"
     ]
    },
    {
     "name": "stderr",
     "output_type": "stream",
     "text": [
      "\n",
      "\u001b[1m[\u001b[0m\u001b[34;49mnotice\u001b[0m\u001b[1;39;49m]\u001b[0m\u001b[39;49m A new release of pip is available: \u001b[0m\u001b[31;49m25.1.1\u001b[0m\u001b[39;49m -> \u001b[0m\u001b[32;49m25.2\u001b[0m\n",
      "\u001b[1m[\u001b[0m\u001b[34;49mnotice\u001b[0m\u001b[1;39;49m]\u001b[0m\u001b[39;49m To update, run: \u001b[0m\u001b[32;49mpython3 -m pip install --upgrade pip\u001b[0m\n"
     ]
    },
    {
     "name": "stdout",
     "output_type": "stream",
     "text": [
      "pyserial==3.5 has been installed.\n",
      "serial==0.0.97 is alreday installed\n",
      "psycopg2-binary not found. Installing...\n",
      "Requirement already satisfied: psycopg2-binary in /usr/local/python/3.12.1/lib/python3.12/site-packages (2.9.10)\n",
      "psycopg2-binary has been installed.\n"
     ]
    },
    {
     "name": "stderr",
     "output_type": "stream",
     "text": [
      "\n",
      "\u001b[1m[\u001b[0m\u001b[34;49mnotice\u001b[0m\u001b[1;39;49m]\u001b[0m\u001b[39;49m A new release of pip is available: \u001b[0m\u001b[31;49m25.1.1\u001b[0m\u001b[39;49m -> \u001b[0m\u001b[32;49m25.2\u001b[0m\n",
      "\u001b[1m[\u001b[0m\u001b[34;49mnotice\u001b[0m\u001b[1;39;49m]\u001b[0m\u001b[39;49m To update, run: \u001b[0m\u001b[32;49mpython3 -m pip install --upgrade pip\u001b[0m\n"
     ]
    }
   ],
   "source": [
    "check_and_install_dependencies(['pyserial==3.5','serial==0.0.97','psycopg2-binary'])"
   ]
  },
  {
   "cell_type": "code",
   "execution_count": 6,
   "id": "11f4a376-7c62-471d-8386-498794b12044",
   "metadata": {},
   "outputs": [],
   "source": [
    "data_original=open('data.csv','r').readlines()"
   ]
  },
  {
   "cell_type": "code",
   "execution_count": 22,
   "id": "79c40024-30be-45e2-bf6a-a87551053917",
   "metadata": {},
   "outputs": [],
   "source": [
    "# Function to extract selected columns\n",
    "def extract_columns(data, selected_columns,delimiter=';'):\n",
    "    '''\n",
    "    Extracts the intended data given the indeces in selected_columns\n",
    "    Determines which is the current state type.\n",
    "    '''\n",
    "    columns = data.split(delimiter)  \n",
    "    result = [str(int(columns[i])/1000) if i==7 else columns[i] for i in selected_columns]\n",
    "    if result[3]=='1':\n",
    "        estado='charging'\n",
    "    elif result [3]=='2':\n",
    "        estado='discharging'\n",
    "    elif result [3]=='4':\n",
    "        estado='rest'\n",
    "    elif result[3]=='6':\n",
    "        estado='finished'\n",
    "    result[3]=estado\n",
    "    return delimiter.join(result),estado #return the data as string\n",
    "\n",
    "def save_file(estado,bateria,capacidad,ciclo,data):\n",
    "    '''\n",
    "    Function for saving the data file (.csv)\n",
    "    By data analisis, each current state is compared to the previous four (4) states. \n",
    "    When the 5 states changes, then it's certain the battery power state has changed\n",
    "    '''\n",
    "    estados_pasados.append(estado)\n",
    "    #determine the correct battery state (charging, resting, discharging) to save data to\n",
    "    if len(estados_pasados)>4:\n",
    "        if all(x==estado for x in estados_pasados):\n",
    "            file_name=f\"{bateria}{estado}_{capacidad}_{ciclo}.csv\"\n",
    "        else:\n",
    "            most_common_elem, count = Counter(estados_pasados).most_common(1)[0]\n",
    "            if most_common_elem==\"charging\" and count==3 and estado=='charging':\n",
    "                ciclo+=1\n",
    "            file_name=f\"{bateria}{most_common_elem}_{capacidad}_{ciclo}.csv\"\n",
    "        if not(file_name in dict_data):\n",
    "            dict_data[file_name]=[]\n",
    "            state_file = open(file_name, \"w\")\n",
    "            state_file.write('date;system_hour;cycle_time;battery_state;voltage[V];current[mA];capacity[mAh]'+'\\n')#setting column titles\n",
    "            state_file.flush()\n",
    "        dict_data[file_name].append(data)\n",
    "        estados_pasados.pop(0)\n",
    "        \n",
    "        #writing data to the specific file\n",
    "        try:\n",
    "            state_file = open(file_name, \"a\")\n",
    "        except:\n",
    "            print(\"book is already open\")\n",
    "        finally:\n",
    "            state_file.write(data+'\\n')\n",
    "            state_file.flush()\n",
    "    return ciclo"
   ]
  },
  {
   "cell_type": "code",
   "execution_count": 23,
   "id": "235a878a-0a33-405c-8e78-a997494a2b74",
   "metadata": {},
   "outputs": [
    {
     "name": "stdout",
     "output_type": "stream",
     "text": [
      "finished cicles \n",
      "closing program\n",
      "2025-09-23\n"
     ]
    }
   ],
   "source": [
    "log_to_file=True\n",
    "estados_pasados=[]\n",
    "dict_data={}\n",
    "columns_to_extract=[0,1,2,4,7,8,17]#date, system_time,cycle_time, battery_state(charing/resting/discharging),voltage(V),current(mA),capacity(mAh)\n",
    "bateria='1'\n",
    "capacidad='1000'\n",
    "ciclo=1\n",
    "base_time=datetime.strptime(\"08:51:02\",\"%H:%M:%S\")\n",
    "\n",
    "if log_to_file:\n",
    "    log_file = open(f\"data_original_{bateria}_{capacidad}_{ciclo}.csv\", \"w\")\n",
    "    log_file.write('date;system_hour;cicle_time;battery_state;voltage[V];current[mA];capacity[mAh]'+'\\n')#setting column titles\n",
    "    log_file.flush()\n",
    "else:\n",
    "    log_file = None\n",
    "                \n",
    "for a in data_original[:-1]:\n",
    "    #adding cycle time (stopwatch like)\n",
    "    aux=a.split(';')\n",
    "    time1=datetime.strptime(aux[1],\"%H:%M:%S\")\n",
    "    diff=str(abs(time1-base_time))\n",
    "    aux.insert(2,diff)\n",
    "    a=';'.join(aux)\n",
    "    data,estado=extract_columns(a,columns_to_extract)\n",
    "    if estados_pasados==['finished','finished','finished','finished']:\n",
    "        print(\"finished cicles \\nclosing program\")\n",
    "        print(a.split(';')[0])\n",
    "        break\n",
    "        \n",
    "    if log_to_file:\n",
    "        #original data\n",
    "        if log_file:\n",
    "            log_file.write(data + '\\n')\n",
    "            log_file.flush()\n",
    "            ciclo=save_file(estado,bateria,capacidad,ciclo,data)   "
   ]
  },
  {
   "cell_type": "code",
   "execution_count": 24,
   "id": "b851755e-00b4-4207-a1db-98b9aab06a0e",
   "metadata": {},
   "outputs": [],
   "source": [
    "#read from CSV to DB"
   ]
  },
  {
   "cell_type": "code",
   "execution_count": 25,
   "id": "c199eed8-d118-448b-b909-ff9f22af6f40",
   "metadata": {},
   "outputs": [],
   "source": [
    "import os\n",
    "import csv\n",
    "from pathlib import Path\n",
    "import re\n",
    "txt_files = [f for f in os.listdir(os.getcwd()) if f.endswith('.csv') and os.path.isfile(os.path.join(os.getcwd(), f))]"
   ]
  },
  {
   "cell_type": "code",
   "execution_count": 26,
   "id": "14cad8be-3588-4f6c-bcc9-cfdc1ed77158",
   "metadata": {},
   "outputs": [],
   "source": [
    "#getting the correct row. Not always the first row has the column titles. This may be found in the first five (5) rows\n",
    "def get_column_title(file):\n",
    "    csv_path = Path(file)\n",
    "    if not csv_path.exists():\n",
    "        raise FileNotFoundError(f\"{csv_file_path} not found.\")\n",
    "    with csv_path.open('r', newline='', encoding='utf-8') as f:\n",
    "        aux=False\n",
    "        count=0\n",
    "        while not(aux):\n",
    "            line=f.readline()\n",
    "            if line.count(';')>=3:\n",
    "                aux=True\n",
    "    #order the columns (date, time, voltage, current, capacity)\n",
    "        order=order_columns(line.strip())\n",
    "        headings=[a for a in order.keys()]\n",
    "        if 'date' not in order:\n",
    "            try:\n",
    "                date= re.search(r'\\d{4}-\\d{2}-\\d{2}', file)\n",
    "                headings.insert(0,'date')\n",
    "            except ValueError:\n",
    "                pass\n",
    "    #extract the data in the desired order\n",
    "        aux=0\n",
    "        print(headings)\n",
    "        while aux<10: #extracting the remaining data\n",
    "            line=f.readline().strip()\n",
    "            data=line.split(';')\n",
    "            db_data=[data[a] for a in order.values()]\n",
    "            if 'date' not in order:\n",
    "                db_data.insert(0,date.group(0))\n",
    "            print(db_data)\n",
    "            aux+=1"
   ]
  },
  {
   "cell_type": "code",
   "execution_count": 27,
   "id": "d61ba82a-e9cf-4f5c-89d7-34360ef5c8ee",
   "metadata": {},
   "outputs": [],
   "source": [
    "def order_columns(header_row):\n",
    "    a=header_row.lower().split(';')\n",
    "    expected_columns=['date','time','voltage','current','capacity']\n",
    "    file_column_order={} #key=battery parameter, value=column number\n",
    "    for aux in expected_columns:\n",
    "     \tindex=0\n",
    "     \twhile index<len(a):\n",
    "     \t\tif aux in a[index]:\n",
    "     \t\t\tfile_column_order[aux]=index\n",
    "     \t\t\tbreak\n",
    "     \t\tindex+=1\n",
    "    return file_column_order"
   ]
  },
  {
   "cell_type": "code",
   "execution_count": 30,
   "id": "ab8fbed4-735d-4afd-8837-112b37136218",
   "metadata": {},
   "outputs": [
    {
     "name": "stdout",
     "output_type": "stream",
     "text": [
      "['date', 'time', 'voltage', 'current', 'capacity']\n",
      "['2025-09-23', '15:54:47', '4.197', '6', '0']\n",
      "['2025-09-23', '15:54:49', '4.197', '6', '0']\n",
      "['2025-09-23', '15:54:51', '4.197', '6', '0']\n",
      "['2025-09-23', '15:54:53', '4.197', '6', '0']\n",
      "['2025-09-23', '15:54:55', '4.197', '6', '0']\n",
      "['2025-09-23', '15:54:58', '4.196', '6', '0']\n",
      "['2025-09-23', '15:54:59', '4.197', '6', '0']\n",
      "['2025-09-23', '15:55:01', '4.196', '6', '0']\n",
      "['2025-09-23', '15:55:03', '4.201', '6', '0']\n",
      "['2025-09-23', '15:55:05', '4.196', '6', '0']\n",
      "file 1charging_1_3.csv, extracted column: None\n",
      "\n",
      "['date', 'time', 'voltage', 'current', 'capacity']\n",
      "['2025-09-23', '7:32:41', '3.285', '50', '0']\n",
      "['2025-09-23', '7:32:43', '3.284', '50', '0']\n",
      "['2025-09-23', '7:32:45', '3.3', '49', '1']\n",
      "['2025-09-23', '7:32:47', '3.31', '49', '1']\n",
      "['2025-09-23', '7:32:49', '3.32', '49', '1']\n",
      "['2025-09-23', '7:32:51', '3.311', '49', '1']\n",
      "['2025-09-23', '7:32:53', '3.311', '49', '2']\n",
      "['2025-09-23', '7:32:55', '3.312', '50', '2']\n",
      "['2025-09-23', '7:32:57', '3.317', '49', '2']\n",
      "['2025-09-23', '7:32:59', '3.318', '49', '2']\n",
      "file 1discharging_1000_3.csv, extracted column: None\n",
      "\n",
      "['date', 'time', 'voltage', 'current', 'capacity']\n",
      "['2025-09-23', '16:18:41', '3.95', '0', '25']\n",
      "['2025-09-23', '16:18:43', '3.95', '0', '25']\n",
      "['2025-09-23', '16:18:45', '3.95', '0', '25']\n",
      "['2025-09-23', '16:18:47', '3.95', '0', '25']\n",
      "['2025-09-23', '16:18:49', '3.95', '0', '25']\n",
      "['2025-09-23', '16:18:51', '3.95', '0', '25']\n",
      "['2025-09-23', '16:18:53', '3.949', '0', '25']\n",
      "['2025-09-23', '16:18:55', '3.95', '0', '25']\n",
      "['2025-09-23', '16:18:57', '3.95', '0', '25']\n",
      "['2025-09-23', '16:18:59', '3.95', '0', '25']\n",
      "file 1rest_1_3.csv, extracted column: None\n",
      "\n",
      "['date', 'time', 'voltage', 'current', 'capacity']\n",
      "['2025-08-06', '00:00.000', '3.461', '0.000', '931']\n",
      "['2025-08-06', '00:02.000', '3.464', '0.000', '931']\n",
      "['2025-08-06', '00:04.000', '3.464', '0.000', '931']\n",
      "['2025-08-06', '00:06.000', '3.464', '0.000', '931']\n",
      "['2025-08-06', '00:08.000', '3.464', '0.000', '931']\n",
      "['2025-08-06', '00:10.000', '3.465', '0.000', '931']\n",
      "['2025-08-06', '00:12.000', '3.472', '0.000', '931']\n",
      "['2025-08-06', '00:14.000', '3.472', '0.000', '931']\n",
      "['2025-08-06', '00:16.000', '3.472', '0.000', '931']\n",
      "['2025-08-06', '00:18.000', '3.472', '0.000', '931']\n",
      "file 2025-08-06_4_Resting.csv, extracted column: None\n",
      "\n",
      "['date', 'time', 'voltage', 'current', 'capacity']\n",
      "['2025-08-06', '00:00:00.000', '3.75', '0.34', '0']\n",
      "['2025-08-06', '00:00:02.000', '3.57', '0.50', '0']\n",
      "['2025-08-06', '00:00:04.000', '3.54', '0.49', '0']\n",
      "['2025-08-06', '00:00:06.000', '3.51', '0.49', '0']\n",
      "['2025-08-06', '00:00:08.000', '3.58', '0.50', '1']\n",
      "['2025-08-06', '00:00:10.000', '3.58', '0.50', '1']\n",
      "['2025-08-06', '00:00:12.000', '3.57', '0.50', '1']\n",
      "['2025-08-06', '00:00:14.000', '3.57', '0.49', '2']\n",
      "['2025-08-06', '00:00:16.000', '3.58', '0.49', '2']\n",
      "['2025-08-06', '00:00:18.000', '3.58', '0.49', '2']\n",
      "file 2025-08-06_7_Discharge.csv, extracted column: None\n",
      "\n"
     ]
    }
   ],
   "source": [
    "for a in txt_files[2:7]:\n",
    "    b=get_column_title(a)\n",
    "    print(f'file {a}, extracted column: {b}')\n",
    "    print()"
   ]
  },
  {
   "cell_type": "code",
   "execution_count": null,
   "id": "822ba4ac-f9b6-4311-8f75-6dca660111d2",
   "metadata": {},
   "outputs": [],
   "source": []
  },
  {
   "cell_type": "code",
   "execution_count": null,
   "id": "070b7846-cbaf-426a-a92e-74186100dc54",
   "metadata": {},
   "outputs": [],
   "source": []
  }
 ],
 "metadata": {
  "kernelspec": {
   "display_name": "Python 3 (ipykernel)",
   "language": "python",
   "name": "python3"
  },
  "language_info": {
   "codemirror_mode": {
    "name": "ipython",
    "version": 3
   },
   "file_extension": ".py",
   "mimetype": "text/x-python",
   "name": "python",
   "nbconvert_exporter": "python",
   "pygments_lexer": "ipython3",
   "version": "3.12.1"
  }
 },
 "nbformat": 4,
 "nbformat_minor": 5
}
