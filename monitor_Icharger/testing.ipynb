{
 "cells": [
  {
   "cell_type": "code",
   "execution_count": 1,
   "id": "a8b14e0a-62ea-4c0f-822b-c630397380de",
   "metadata": {},
   "outputs": [],
   "source": [
    "import subprocess\n",
    "import sys"
   ]
  },
  {
   "cell_type": "code",
   "execution_count": 2,
   "id": "df868d1e-c6c5-404d-a351-0fd055110a81",
   "metadata": {},
   "outputs": [],
   "source": [
    "def install_package(package):\n",
    "    \"\"\"Installs the package using pip\"\"\"\n",
    "    subprocess.check_call([sys.executable, '-m', 'pip','install',package])"
   ]
  },
  {
   "cell_type": "code",
   "execution_count": 3,
   "id": "0e3e7412-3745-46c0-bfaf-623df0f6907d",
   "metadata": {},
   "outputs": [],
   "source": [
    "def check_and_install_dependencies(packages):\n",
    "    \"\"\"Checks if packages are installed, installs them if not\"\"\"\n",
    "    for package in packages:\n",
    "        try:\n",
    "            __import__(package.split('==')[0])\n",
    "            print(f\"{package} is alreday installed\")\n",
    "        except ImportError:\n",
    "            print(f'{package} not found. Installing...')\n",
    "            install_package(package)\n",
    "            print(f'{package} has been installed.')"
   ]
  },
  {
   "cell_type": "code",
   "execution_count": 4,
   "id": "4ca706d9-27e4-4225-b8e2-5843d9781202",
   "metadata": {},
   "outputs": [],
   "source": [
    "import ctypes\n",
    "import serial\n",
    "import time\n",
    "import serial.tools.list_ports\n",
    "from collections import Counter"
   ]
  },
  {
   "cell_type": "code",
   "execution_count": 5,
   "id": "fabf74c5-a6f2-4a29-8e32-7be5e6df281f",
   "metadata": {},
   "outputs": [
    {
     "name": "stdout",
     "output_type": "stream",
     "text": [
      "pyserial==3.5 not found. Installing...\n",
      "Requirement already satisfied: pyserial==3.5 in /usr/local/python/3.12.1/lib/python3.12/site-packages (3.5)\n"
     ]
    },
    {
     "name": "stderr",
     "output_type": "stream",
     "text": [
      "\n",
      "\u001b[1m[\u001b[0m\u001b[34;49mnotice\u001b[0m\u001b[1;39;49m]\u001b[0m\u001b[39;49m A new release of pip is available: \u001b[0m\u001b[31;49m25.1.1\u001b[0m\u001b[39;49m -> \u001b[0m\u001b[32;49m25.2\u001b[0m\n",
      "\u001b[1m[\u001b[0m\u001b[34;49mnotice\u001b[0m\u001b[1;39;49m]\u001b[0m\u001b[39;49m To update, run: \u001b[0m\u001b[32;49mpython3 -m pip install --upgrade pip\u001b[0m\n"
     ]
    },
    {
     "name": "stdout",
     "output_type": "stream",
     "text": [
      "pyserial==3.5 has been installed.\n",
      "serial==0.0.97 is alreday installed\n",
      "psycopg2-binary not found. Installing...\n",
      "Requirement already satisfied: psycopg2-binary in /usr/local/python/3.12.1/lib/python3.12/site-packages (2.9.10)\n",
      "psycopg2-binary has been installed.\n"
     ]
    },
    {
     "name": "stderr",
     "output_type": "stream",
     "text": [
      "\n",
      "\u001b[1m[\u001b[0m\u001b[34;49mnotice\u001b[0m\u001b[1;39;49m]\u001b[0m\u001b[39;49m A new release of pip is available: \u001b[0m\u001b[31;49m25.1.1\u001b[0m\u001b[39;49m -> \u001b[0m\u001b[32;49m25.2\u001b[0m\n",
      "\u001b[1m[\u001b[0m\u001b[34;49mnotice\u001b[0m\u001b[1;39;49m]\u001b[0m\u001b[39;49m To update, run: \u001b[0m\u001b[32;49mpython3 -m pip install --upgrade pip\u001b[0m\n"
     ]
    }
   ],
   "source": [
    "check_and_install_dependencies(['pyserial==3.5','serial==0.0.97','psycopg2-binary'])"
   ]
  },
  {
   "cell_type": "code",
   "execution_count": 6,
   "id": "11f4a376-7c62-471d-8386-498794b12044",
   "metadata": {},
   "outputs": [],
   "source": [
    "data_original=open('data.csv','r').readlines()"
   ]
  },
  {
   "cell_type": "code",
   "execution_count": 7,
   "id": "79c40024-30be-45e2-bf6a-a87551053917",
   "metadata": {},
   "outputs": [],
   "source": [
    "# Function to extract selected columns\n",
    "def extract_columns(data, selected_columns,delimiter=';'):\n",
    "    '''\n",
    "    Extracts the intended data given the indeces in selected_columns\n",
    "    Determines which is the current state type.\n",
    "    '''\n",
    "    columns = data.split(delimiter)  \n",
    "    result = [str(int(columns[i])/1000) if i==6 else columns[i] for i in selected_columns]\n",
    "    if result[2]=='1':\n",
    "        estado='charging'\n",
    "    elif result [2]=='2':\n",
    "        estado='discharging'\n",
    "    elif result [2]=='4':\n",
    "        estado='rest'\n",
    "    elif result[2]=='6':\n",
    "        estado='finished'\n",
    "    result[2]=estado\n",
    "    return delimiter.join(result),estado #return the data as string\n",
    "\n",
    "def save_file(estado,bateria,capacidad,ciclo,data):\n",
    "    '''\n",
    "    Function for saving the data file (.csv)\n",
    "    By data analisis, each current state is compared to the previous four (4) states. \n",
    "    When the 5 states changes, then it's certain the battery power state has changed\n",
    "    '''\n",
    "    estados_pasados.append(estado)\n",
    "    #determine the correct battery state (charging, resting, discharging) to save data to\n",
    "    if len(estados_pasados)>4:\n",
    "        if all(x==estado for x in estados_pasados):\n",
    "            file_name=f\"{bateria}{estado}_{capacidad}_{ciclo}.csv\"\n",
    "        else:\n",
    "            most_common_elem, count = Counter(estados_pasados).most_common(1)[0]\n",
    "            if most_common_elem==\"charging\" and count==3 and estado=='charging':\n",
    "                ciclo+=1\n",
    "            file_name=f\"{bateria}{most_common_elem}_{capacidad}_{ciclo}.csv\"\n",
    "        if not(file_name in dict_data):\n",
    "            dict_data[file_name]=[]\n",
    "            state_file = open(file_name, \"w\")\n",
    "            state_file.write('date;time;battery_state;voltage[V];current[mA];capacity[mAh]'+'\\n')#setting column titles\n",
    "            state_file.flush()\n",
    "        dict_data[file_name].append(data)\n",
    "        estados_pasados.pop(0)\n",
    "        \n",
    "        #writing data to the specific file\n",
    "        try:\n",
    "            state_file = open(file_name, \"a\")\n",
    "        except:\n",
    "            print(\"book is already open\")\n",
    "        finally:\n",
    "            state_file.write(data+'\\n')\n",
    "            state_file.flush()\n",
    "    return ciclo"
   ]
  },
  {
   "cell_type": "code",
   "execution_count": 8,
   "id": "235a878a-0a33-405c-8e78-a997494a2b74",
   "metadata": {},
   "outputs": [
    {
     "name": "stdout",
     "output_type": "stream",
     "text": [
      "finished cicles \n",
      "closing program\n",
      "2025-09-23\n"
     ]
    }
   ],
   "source": [
    "log_to_file=True\n",
    "estados_pasados=[]\n",
    "dict_data={}\n",
    "columns_to_extract=[0,1,3,6,7,16]#date, time, battery_state(charing/resting/discharging),voltage(V),current(mA),capacity(mAh)\n",
    "bateria='1'\n",
    "capacidad='1000'\n",
    "ciclo=1\n",
    "\n",
    "if log_to_file:\n",
    "    log_file = open(f\"data_original_{bateria}_{capacidad}_{ciclo}.csv\", \"w\")\n",
    "    log_file.write('date;time;battery_state;voltage[V];current[mA];capacity[mAh]'+'\\n')#setting column titles\n",
    "    log_file.flush()\n",
    "else:\n",
    "    log_file = None\n",
    "                \n",
    "for a in data_original[:-1]:\n",
    "    data,estado=extract_columns(a,columns_to_extract)\n",
    "    if estados_pasados==['finished','finished','finished','finished']:\n",
    "        print(\"finished cicles \\nclosing program\")\n",
    "        print(a.split(';')[0])\n",
    "        break\n",
    "        \n",
    "    if log_to_file:\n",
    "        #original data\n",
    "        if log_file:\n",
    "            log_file.write(data + '\\n')\n",
    "            log_file.flush()\n",
    "            ciclo=save_file(estado,bateria,capacidad,ciclo,data)   "
   ]
  },
  {
   "cell_type": "code",
   "execution_count": 9,
   "id": "b851755e-00b4-4207-a1db-98b9aab06a0e",
   "metadata": {},
   "outputs": [],
   "source": [
    "#read from CSV to DB"
   ]
  },
  {
   "cell_type": "code",
   "execution_count": 13,
   "id": "c199eed8-d118-448b-b909-ff9f22af6f40",
   "metadata": {},
   "outputs": [],
   "source": [
    "import os\n",
    "import csv\n",
    "from pathlib import Path\n",
    "from datetime import datetime\n",
    "txt_files = [f for f in os.listdir(os.getcwd()) if f.endswith('.csv') and os.path.isfile(os.path.join(os.getcwd(), f))]"
   ]
  },
  {
   "cell_type": "code",
   "execution_count": 17,
   "id": "781d1046-429a-4079-ab3b-c529d216cabe",
   "metadata": {},
   "outputs": [],
   "source": [
    "#reading data and preparing for the DB\n",
    "def infer_data_type(value: str) -> str:\n",
    "    \"\"\"Guess the data type from a single value.\"\"\"\n",
    "    value = value.strip()\n",
    "\n",
    "    if value == \"\":\n",
    "        return \"TEXT\"  # fallback for empty strings\n",
    "\n",
    "    if value.isdigit():\n",
    "        return \"INTEGER\"\n",
    "    \n",
    "    try:\n",
    "        float(value)\n",
    "        return \"FLOAT\"\n",
    "    except ValueError:\n",
    "        pass\n",
    "\n",
    "    for fmt in (\"%Y-%m-%d\", \"%Y-%m-%d %H:%M:%S\"):\n",
    "        try:\n",
    "            datetime.strptime(value, fmt)\n",
    "            return \"TIMESTAMP\"\n",
    "        except ValueError:\n",
    "            continue\n",
    "\n",
    "    return \"TEXT\"\n",
    "\n",
    "def normalize_column_name(name: str) -> str:\n",
    "    \"\"\"Make column names safe for SQL.\"\"\"\n",
    "    return name.strip().lower().replace(\" \", \"_\")\n",
    "\n",
    "def get_column_types_from_csv(csv_file_path: str) -> dict:\n",
    "    \"\"\"Reads CSV and returns a dict of {column_name: inferred_type}.\"\"\"\n",
    "    csv_path = Path(csv_file_path)\n",
    "    if not csv_path.exists():\n",
    "        raise FileNotFoundError(f\"{csv_file_path} not found.\")\n",
    "\n",
    "    with csv_path.open('r', newline='', encoding='utf-8') as f:\n",
    "        reader = csv.DictReader(f,delimiter=';')\n",
    "        first_row = next(reader)\n",
    "\n",
    "    col_types = {}\n",
    "    for col, val in first_row.items():\n",
    "        col_name = normalize_column_name(col)\n",
    "        col_type = infer_data_type(val)\n",
    "        col_types[col_name] = col_type\n",
    "\n",
    "    return col_types"
   ]
  },
  {
   "cell_type": "code",
   "execution_count": 18,
   "id": "ab8fbed4-735d-4afd-8837-112b37136218",
   "metadata": {},
   "outputs": [
    {
     "name": "stdout",
     "output_type": "stream",
     "text": [
      "{'2025-09-23': 'TIMESTAMP', '08:51:02': 'TEXT', '$1': 'TEXT', '1': 'INTEGER', '': 'TEXT', '12000': 'INTEGER', '4190': 'INTEGER', '7': 'INTEGER', '0': 'INTEGER', '328': 'INTEGER', '6': 'INTEGER', '40': 'INTEGER'}\n",
      "{'date': 'TIMESTAMP', 'time': 'TEXT', 'battery_state': 'TEXT', 'voltage[v]': 'FLOAT', 'current[ma]': 'INTEGER', 'capacity[mah]': 'INTEGER'}\n",
      "{'date': 'TIMESTAMP', 'time': 'TEXT', 'battery_state': 'TEXT', 'voltage[v]': 'FLOAT', 'current[ma]': 'INTEGER', 'capacity[mah]': 'INTEGER'}\n",
      "{'date': 'TIMESTAMP', 'time': 'TEXT', 'battery_state': 'TEXT', 'voltage[v]': 'FLOAT', 'current[ma]': 'INTEGER', 'capacity[mah]': 'INTEGER'}\n"
     ]
    },
    {
     "ename": "AttributeError",
     "evalue": "'NoneType' object has no attribute 'strip'",
     "output_type": "error",
     "traceback": [
      "\u001b[31m---------------------------------------------------------------------------\u001b[39m",
      "\u001b[31mAttributeError\u001b[39m                            Traceback (most recent call last)",
      "\u001b[36mCell\u001b[39m\u001b[36m \u001b[39m\u001b[32mIn[18]\u001b[39m\u001b[32m, line 2\u001b[39m\n\u001b[32m      1\u001b[39m \u001b[38;5;28;01mfor\u001b[39;00m a \u001b[38;5;129;01min\u001b[39;00m txt_files:\n\u001b[32m----> \u001b[39m\u001b[32m2\u001b[39m     \u001b[38;5;28mprint\u001b[39m(\u001b[43mget_column_types_from_csv\u001b[49m\u001b[43m(\u001b[49m\u001b[43ma\u001b[49m\u001b[43m)\u001b[49m)\n",
      "\u001b[36mCell\u001b[39m\u001b[36m \u001b[39m\u001b[32mIn[17]\u001b[39m\u001b[32m, line 43\u001b[39m, in \u001b[36mget_column_types_from_csv\u001b[39m\u001b[34m(csv_file_path)\u001b[39m\n\u001b[32m     41\u001b[39m col_types = {}\n\u001b[32m     42\u001b[39m \u001b[38;5;28;01mfor\u001b[39;00m col, val \u001b[38;5;129;01min\u001b[39;00m first_row.items():\n\u001b[32m---> \u001b[39m\u001b[32m43\u001b[39m     col_name = \u001b[43mnormalize_column_name\u001b[49m\u001b[43m(\u001b[49m\u001b[43mcol\u001b[49m\u001b[43m)\u001b[49m\n\u001b[32m     44\u001b[39m     col_type = infer_data_type(val)\n\u001b[32m     45\u001b[39m     col_types[col_name] = col_type\n",
      "\u001b[36mCell\u001b[39m\u001b[36m \u001b[39m\u001b[32mIn[17]\u001b[39m\u001b[32m, line 29\u001b[39m, in \u001b[36mnormalize_column_name\u001b[39m\u001b[34m(name)\u001b[39m\n\u001b[32m     27\u001b[39m \u001b[38;5;28;01mdef\u001b[39;00m\u001b[38;5;250m \u001b[39m\u001b[34mnormalize_column_name\u001b[39m(name: \u001b[38;5;28mstr\u001b[39m) -> \u001b[38;5;28mstr\u001b[39m:\n\u001b[32m     28\u001b[39m \u001b[38;5;250m    \u001b[39m\u001b[33;03m\"\"\"Make column names safe for SQL.\"\"\"\u001b[39;00m\n\u001b[32m---> \u001b[39m\u001b[32m29\u001b[39m     \u001b[38;5;28;01mreturn\u001b[39;00m \u001b[43mname\u001b[49m\u001b[43m.\u001b[49m\u001b[43mstrip\u001b[49m().lower().replace(\u001b[33m\"\u001b[39m\u001b[33m \u001b[39m\u001b[33m\"\u001b[39m, \u001b[33m\"\u001b[39m\u001b[33m_\u001b[39m\u001b[33m\"\u001b[39m)\n",
      "\u001b[31mAttributeError\u001b[39m: 'NoneType' object has no attribute 'strip'"
     ]
    }
   ],
   "source": [
    "for a in txt_files:\n",
    "    print(get_column_types_from_csv(a))"
   ]
  },
  {
   "cell_type": "code",
   "execution_count": null,
   "id": "14cad8be-3588-4f6c-bcc9-cfdc1ed77158",
   "metadata": {},
   "outputs": [],
   "source": []
  }
 ],
 "metadata": {
  "kernelspec": {
   "display_name": "Python 3 (ipykernel)",
   "language": "python",
   "name": "python3"
  },
  "language_info": {
   "codemirror_mode": {
    "name": "ipython",
    "version": 3
   },
   "file_extension": ".py",
   "mimetype": "text/x-python",
   "name": "python",
   "nbconvert_exporter": "python",
   "pygments_lexer": "ipython3",
   "version": "3.12.1"
  }
 },
 "nbformat": 4,
 "nbformat_minor": 5
}
