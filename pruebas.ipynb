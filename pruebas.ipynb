{
 "cells": [
  {
   "cell_type": "code",
   "execution_count": 2,
   "metadata": {},
   "outputs": [],
   "source": [
    "import os\n",
    "import re\n",
    "import pandas as pd"
   ]
  },
  {
   "cell_type": "code",
   "execution_count": 11,
   "metadata": {},
   "outputs": [],
   "source": [
    "#linux\n",
    "url=r'/home/yoga/Desktop/prof.Vanessa/Data'\n",
    "#win10\n",
    "# url=r'C:\\Users\\Kelvin Kung\\Desktop\\prof.Vanessa-1\\Data'"
   ]
  },
  {
   "cell_type": "code",
   "execution_count": 12,
   "metadata": {},
   "outputs": [],
   "source": [
    "def extension(file):\n",
    "    a=re.search(r'(\\.[a-z]{3,})',file)\n",
    "    if a!=None:\n",
    "        return a[1]"
   ]
  },
  {
   "cell_type": "code",
   "execution_count": 25,
   "metadata": {},
   "outputs": [],
   "source": [
    "def to_float(data):\n",
    "    '''\n",
    "    data=list to be transformed to a float\n",
    "    '''\n",
    "    for a in data:\n",
    "        for b,d in enumerate(a):\n",
    "            try:\n",
    "                a[b]=float(d)\n",
    "            except:\n",
    "                pass\n",
    "    return data"
   ]
  },
  {
   "cell_type": "code",
   "execution_count": 174,
   "metadata": {},
   "outputs": [],
   "source": [
    "def data_icharger(data):\n",
    "    '''\n",
    "    data=list of data for preprocessing\n",
    "    '''\n",
    "    a=pd.DataFrame(data[1:],columns=data[0])\n",
    "    #delete all zero columns\n",
    "    for b in a.keys():\n",
    "        try:\n",
    "            if a[b].mean()==0:\n",
    "                a=a.drop(columns=b)\n",
    "        except:\n",
    "            pass\n",
    "    \n",
    "    for b in a.keys():\n",
    "        #cambio de voltaje [mV] y corriente [mA]\n",
    "        if '[V]' in b or '[A]' in b:\n",
    "            a[b]=a.loc[:,b]*1000\n",
    "    #rewrite time column as format (HH:mm:ss)\n",
    "    b='0:00:00'\n",
    "    aux=a.loc[:,a.keys()[0]]\n",
    "    for d,e in enumerate(aux):\n",
    "        e=re.sub(r'm ',\":\",e)\n",
    "        e=re.sub(r's ',\"\",e)\n",
    "        e=re.sub(r' ',\"\",e)\n",
    "        e=b[:-len(e)]+e\n",
    "        aux[d]=e\n",
    "    a[a.keys()[0]]=aux\n",
    "    #reformat voltaje to mV and currente to mA\n",
    "    print(a)"
   ]
  },
  {
   "cell_type": "code",
   "execution_count": 175,
   "metadata": {},
   "outputs": [],
   "source": [
    "def data_bts(data):\n",
    "    '''\n",
    "    data=list of data for processing\n",
    "\n",
    "    returns a pandas dataframe\n",
    "    '''\n",
    "    cycle=0\n",
    "    step_type='none'\n",
    "    info=[]\n",
    "    summary=[]\n",
    "    header=['Cycle','Step type','time (HH:mm:ss)','voltage (mV)','current (mA)']\n",
    "    for a in data:\n",
    "        b=len(a)\n",
    "        if b==21: #get cycle number\n",
    "            cycle=a[0]\n",
    "            continue\n",
    "        elif b==12: #get step type\n",
    "            step_type=a[1]\n",
    "            continue\n",
    "        elif b==11 and isinstance(a[0],float): #get data (time, voltage and current)\n",
    "            time=a[1][:-4]\n",
    "            volt=a[2]\n",
    "            curr=a[3]\n",
    "            info=[cycle,step_type,time,volt,curr]\n",
    "            summary.append(info)\n",
    "        else:\n",
    "            continue\n",
    "    print(pd.DataFrame(summary,columns=header))"
   ]
  },
  {
   "cell_type": "code",
   "execution_count": 179,
   "metadata": {},
   "outputs": [
    {
     "name": "stdout",
     "output_type": "stream",
     "text": [
      "Ciclo 3 (Descarga) 1) Discharging.csv\n"
     ]
    },
    {
     "name": "stderr",
     "output_type": "stream",
     "text": [
      "/tmp/ipykernel_5580/1080545072.py:26: SettingWithCopyWarning: \n",
      "A value is trying to be set on a copy of a slice from a DataFrame\n",
      "\n",
      "See the caveats in the documentation: https://pandas.pydata.org/pandas-docs/stable/user_guide/indexing.html#returning-a-view-versus-a-copy\n",
      "  aux[d]=e\n"
     ]
    },
    {
     "name": "stdout",
     "output_type": "stream",
     "text": [
      "    Zeit [s]  Input [V]  Voltage accu [V]  Current [A]  Capacity [mAh]  \\\n",
      "0    0:00:00    11966.0            8124.0        240.0             0.0   \n",
      "1    0:00:02    11966.0            7993.0        600.0             0.0   \n",
      "2    0:00:04    11966.0            7978.0        590.0             0.0   \n",
      "3    0:00:06    11973.0            7981.0        590.0             1.0   \n",
      "4    0:00:08    11966.0            7970.0        590.0             1.0   \n",
      "..       ...        ...               ...          ...             ...   \n",
      "895  0:29:50    11913.0            7013.0        590.0           300.0   \n",
      "896  0:29:52    11940.0            7013.0        590.0           301.0   \n",
      "897  0:29:54    11973.0            7020.0        600.0           301.0   \n",
      "898  0:29:56    11913.0            7013.0        590.0           301.0   \n",
      "899  0:29:58    11913.0            7020.0        590.0           302.0   \n",
      "\n",
      "     Power [W]  Energy [Wh]  Int. Temperatur [ï¿½C]  Ext. Temperatur [ï¿½C]\\n  \n",
      "0        1.950        0.001                    40.4                       0.0  \n",
      "1        4.796        0.004                    40.4                       0.0  \n",
      "2        4.707        0.006                    40.4                       0.0  \n",
      "3        4.709        0.009                    40.4                       0.0  \n",
      "4        4.702        0.012                    40.4                       0.1  \n",
      "..         ...          ...                     ...                       ...  \n",
      "895      4.138        2.189                    42.2                       0.0  \n",
      "896      4.138        2.192                    42.2                       0.0  \n",
      "897      4.212        2.194                    42.2                       0.0  \n",
      "898      4.138        2.196                    42.2                       0.0  \n",
      "899      4.142        2.199                    42.2                       0.0  \n",
      "\n",
      "[900 rows x 9 columns]\n",
      "20210722_12_Ch3-Li_BTS-5cycles-023246-ch2.txt\n",
      "       Cycle Step type time (HH:mm:ss)  voltage (mV)  current (mA)\n",
      "0        1.0      Rest         0:00:00        2486.6         0.000\n",
      "1        1.0      Rest         0:00:20        2733.4         0.000\n",
      "2        1.0      Rest         0:00:40        2771.2         0.000\n",
      "3        1.0      Rest         0:01:00        2776.2         0.000\n",
      "4        1.0      Rest         0:01:20        2787.6         0.000\n",
      "...      ...       ...             ...           ...           ...\n",
      "18067    6.0    CV_Chg         3:34:40        3393.4         0.005\n",
      "18068    6.0    CV_Chg         3:35:00        3393.4         0.006\n",
      "18069    6.0    CV_Chg         3:35:20        3393.4         0.005\n",
      "18070    6.0    CV_Chg         3:35:40        3393.7         0.005\n",
      "18071    6.0    CV_Chg         3:35:44        3395.9        -0.003\n",
      "\n",
      "[18072 rows x 5 columns]\n",
      "Ciclo 2 (carga) 1) Charging.csv\n"
     ]
    },
    {
     "name": "stderr",
     "output_type": "stream",
     "text": [
      "/tmp/ipykernel_5580/1080545072.py:26: SettingWithCopyWarning: \n",
      "A value is trying to be set on a copy of a slice from a DataFrame\n",
      "\n",
      "See the caveats in the documentation: https://pandas.pydata.org/pandas-docs/stable/user_guide/indexing.html#returning-a-view-versus-a-copy\n",
      "  aux[d]=e\n"
     ]
    },
    {
     "name": "stdout",
     "output_type": "stream",
     "text": [
      "    Zeit [s]  Input [V]  Voltage accu [V]  Current [A]  Capacity [mAh]  \\\n",
      "0    0:00:00    11873.0            7129.0        520.0             0.0   \n",
      "1    0:00:02    11846.0            7164.0        600.0             0.0   \n",
      "2    0:00:04    11853.0            7182.0        590.0             0.0   \n",
      "3    0:00:06    11846.0            7189.0        590.0             1.0   \n",
      "4    0:00:08    11846.0            7206.0        600.0             1.0   \n",
      "..       ...        ...               ...          ...             ...   \n",
      "894  0:29:48    11853.0            7738.0        590.0           299.0   \n",
      "895  0:29:50    11866.0            7743.0        600.0           300.0   \n",
      "896  0:29:52    11853.0            7738.0        590.0           300.0   \n",
      "897  0:29:54    11866.0            7740.0        600.0           300.0   \n",
      "898  0:29:56    11853.0            7744.0        590.0           301.0   \n",
      "\n",
      "     Power [W]  Energy [Wh]  Int. Temperatur [ï¿½C]  Ext. Temperatur [ï¿½C]\\n  \n",
      "0        3.707        0.002                    32.8                       0.0  \n",
      "1        4.298        0.004                    32.8                       0.0  \n",
      "2        4.237        0.007                    32.8                       0.0  \n",
      "3        4.242        0.009                    33.2                       0.0  \n",
      "4        4.324        0.012                    33.5                       0.0  \n",
      "..         ...          ...                     ...                       ...  \n",
      "894      4.565        2.215                    42.2                       0.0  \n",
      "895      4.646        2.218                    42.2                       0.0  \n",
      "896      4.565        2.221                    42.2                       0.0  \n",
      "897      4.644        2.223                    42.2                       0.0  \n",
      "898      4.569        2.226                    42.2                       0.0  \n",
      "\n",
      "[899 rows x 9 columns]\n"
     ]
    }
   ],
   "source": [
    "for a in os.listdir(url):\n",
    "    b=extension(a)\n",
    "    if b in ['.txt','.csv']:\n",
    "        print(a)\n",
    "        with open(os.path.join(url,a),'r',encoding = \"ISO-8859-1\") as file:\n",
    "            c=file.readlines()\n",
    "            for d,e in enumerate(c):\n",
    "                if ';' in e: #data icharger\n",
    "                    c[d]=e.split(';')\n",
    "                    z='icharger'\n",
    "                else: #data BTS\n",
    "                    c[d]=e.split()\n",
    "                    z='bts'\n",
    "            c=to_float(c)\n",
    "        file.close()\n",
    "        if z=='icharger':\n",
    "            data_icharger(c)\n",
    "        elif z=='bts':\n",
    "            c=data_bts(c)\n"
   ]
  },
  {
   "cell_type": "code",
   "execution_count": 183,
   "metadata": {},
   "outputs": [],
   "source": [
    "# c[0].replace(['[V]','[A]'],['[mV]','[mA]'],c[0])\n",
    "a=pd.DataFrame(c[1:],columns=c[0])\n",
    "b='0:00:00'\n",
    "aux=a.loc[:,a.keys()[0]]\n",
    "for d,e in enumerate(aux):\n",
    "    e=re.sub(r'm ',\":\",e)\n",
    "    e=re.sub(r's ',\"\",e)\n",
    "    e=re.sub(r' ',\"\",e)\n",
    "    e=b[:-len(e)]+e\n",
    "    # aux[d]=e"
   ]
  },
  {
   "cell_type": "code",
   "execution_count": 184,
   "metadata": {},
   "outputs": [
    {
     "data": {
      "text/plain": [
       "0           0s \n",
       "1           2s \n",
       "2           4s \n",
       "3           6s \n",
       "4           8s \n",
       "         ...   \n",
       "894     29m 48 \n",
       "895     29m 50 \n",
       "896     29m 52 \n",
       "897     29m 54 \n",
       "898     29m 56 \n",
       "Name: Zeit [s], Length: 899, dtype: object"
      ]
     },
     "execution_count": 184,
     "metadata": {},
     "output_type": "execute_result"
    }
   ],
   "source": [
    "aux"
   ]
  },
  {
   "cell_type": "code",
   "execution_count": null,
   "metadata": {},
   "outputs": [],
   "source": []
  }
 ],
 "metadata": {
  "interpreter": {
   "hash": "36cf091cbb3611feebc74edf343f0b209fb07599f48fae6e295c00103f31d408"
  },
  "kernelspec": {
   "display_name": "Python 3.8.10 ('venv': venv)",
   "language": "python",
   "name": "python3"
  },
  "language_info": {
   "codemirror_mode": {
    "name": "ipython",
    "version": 3
   },
   "file_extension": ".py",
   "mimetype": "text/x-python",
   "name": "python",
   "nbconvert_exporter": "python",
   "pygments_lexer": "ipython3",
   "version": "3.8.10"
  },
  "orig_nbformat": 4
 },
 "nbformat": 4,
 "nbformat_minor": 2
}
