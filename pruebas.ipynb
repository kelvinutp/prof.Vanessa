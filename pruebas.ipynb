{
 "cells": [
  {
   "cell_type": "code",
   "execution_count": 1,
   "metadata": {},
   "outputs": [],
   "source": [
    "import os\n",
    "import re\n",
    "import pandas as pd"
   ]
  },
  {
   "cell_type": "code",
   "execution_count": 2,
   "metadata": {},
   "outputs": [],
   "source": [
    "#linux\n",
    "url=r'/home/yoga/Desktop/prof.Vanessa/Data'\n",
    "#win10\n",
    "# url=r'C:\\Users\\Kelvin Kung\\Desktop\\prof.Vanessa-1\\Data'"
   ]
  },
  {
   "cell_type": "code",
   "execution_count": 3,
   "metadata": {},
   "outputs": [],
   "source": [
    "def extension(file):\n",
    "    a=re.search(r'(\\.[a-z]{3,})',file)\n",
    "    if a!=None:\n",
    "        return a[1]"
   ]
  },
  {
   "cell_type": "code",
   "execution_count": 4,
   "metadata": {},
   "outputs": [],
   "source": [
    "def to_float(data):\n",
    "    '''\n",
    "    data=list to be transformed to a float\n",
    "    '''\n",
    "    for a in data:\n",
    "        for b,d in enumerate(a):\n",
    "            try:\n",
    "                a[b]=float(d)\n",
    "            except:\n",
    "                pass\n",
    "    return data"
   ]
  },
  {
   "cell_type": "code",
   "execution_count": 87,
   "metadata": {},
   "outputs": [],
   "source": [
    "def data_icharger(data):\n",
    "    '''\n",
    "    data=list of data for preprocessing\n",
    "    '''\n",
    "    a=pd.DataFrame(data[1:],columns=data[0])\n",
    "    #delete all zero columns\n",
    "    for b in a.keys():\n",
    "        try:\n",
    "            if a[b].mean()==0:\n",
    "                a=a.drop(columns=b)\n",
    "        except:\n",
    "            pass\n",
    "    \n",
    "    #set times in seconds\n",
    "    seg=[b*2 for b in range(0,len(data)-1)]\n",
    "    a[a.keys()[0]]=seg\n",
    "\n",
    "    #set voltage units in mV and current units in mA\n",
    "    for b in a.keys():\n",
    "        if '[V]' in b or '[A]' in b:\n",
    "            a[b]=a.loc[:,b]*1000\n",
    "    a.columns=a.columns.str.replace('V','mV')\n",
    "    a.columns=a.columns.str.replace('A','mA')\n",
    "    return a"
   ]
  },
  {
   "cell_type": "code",
   "execution_count": 88,
   "metadata": {},
   "outputs": [],
   "source": [
    "def data_bts(data):\n",
    "    '''\n",
    "    data=list of data for processing\n",
    "\n",
    "    returns a pandas dataframe\n",
    "    '''\n",
    "    cycle=0\n",
    "    step_type='none'\n",
    "    info=[]\n",
    "    summary=[]\n",
    "    header=['Cycle','Step type','time (HH:mm:ss)','voltage (mV)','current (mA)']\n",
    "    for a in data:\n",
    "        b=len(a)\n",
    "        if b==21: #get cycle number\n",
    "            cycle=a[0]\n",
    "            continue\n",
    "        elif b==12: #get step type\n",
    "            step_type=a[1]\n",
    "            continue\n",
    "        elif b==11 and isinstance(a[0],float): #get data (time, voltage and current)\n",
    "            time=a[1][:-4]\n",
    "            volt=a[2]\n",
    "            curr=a[3]\n",
    "            info=[cycle,step_type,time,volt,curr]\n",
    "            summary.append(info)\n",
    "        else:\n",
    "            continue\n",
    "    return pd.DataFrame(summary,columns=header)"
   ]
  },
  {
   "cell_type": "code",
   "execution_count": 89,
   "metadata": {},
   "outputs": [
    {
     "name": "stdout",
     "output_type": "stream",
     "text": [
      "Ciclo 3 (Descarga) 1) Discharging.csv\n",
      "20210722_12_Ch3-Li_BTS-5cycles-023246-ch2.txt\n",
      "Ciclo 2 (carga) 1) Charging.csv\n"
     ]
    }
   ],
   "source": [
    "for a in os.listdir(url):\n",
    "    b=extension(a)\n",
    "    if b in ['.txt','.csv']:\n",
    "        print(a)\n",
    "        with open(os.path.join(url,a),'r',encoding = \"ISO-8859-1\") as file:\n",
    "            c=file.readlines()\n",
    "            for d,e in enumerate(c):\n",
    "                if ';' in e: #data icharger\n",
    "                    c[d]=e.split(';')\n",
    "                    z='icharger'\n",
    "                else: #data BTS\n",
    "                    c[d]=e.split()\n",
    "                    z='bts'\n",
    "            c=to_float(c)\n",
    "        file.close()\n",
    "        if z=='icharger':\n",
    "            c=data_icharger(c)\n",
    "        elif z=='bts':\n",
    "            c=data_bts(c)\n"
   ]
  },
  {
   "cell_type": "code",
   "execution_count": null,
   "metadata": {},
   "outputs": [],
   "source": []
  }
 ],
 "metadata": {
  "interpreter": {
   "hash": "36cf091cbb3611feebc74edf343f0b209fb07599f48fae6e295c00103f31d408"
  },
  "kernelspec": {
   "display_name": "Python 3.8.10 ('venv': venv)",
   "language": "python",
   "name": "python3"
  },
  "language_info": {
   "codemirror_mode": {
    "name": "ipython",
    "version": 3
   },
   "file_extension": ".py",
   "mimetype": "text/x-python",
   "name": "python",
   "nbconvert_exporter": "python",
   "pygments_lexer": "ipython3",
   "version": "3.8.10"
  },
  "orig_nbformat": 4
 },
 "nbformat": 4,
 "nbformat_minor": 2
}
